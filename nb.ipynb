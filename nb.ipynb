{
 "cells": [
  {
   "cell_type": "code",
   "execution_count": null,
   "id": "7635cbcc-96b4-4183-86b5-918c9e097b02",
   "metadata": {},
   "outputs": [],
   "source": [
    "import numpy as np\n",
    "import mdtraj as md\n",
    "import matplotlib.pyplot as plt\n",
    "import nglview as nv"
   ]
  },
  {
   "cell_type": "code",
   "execution_count": null,
   "id": "fedee822-77d1-42f3-a028-11dd35dd1aa9",
   "metadata": {},
   "outputs": [],
   "source": [
    "def pbc_and_fit(base):\n",
    "    xtc = base + \".xtc\"\n",
    "    pbc = base + \"-pbc.xtc\"\n",
    "    !bash -c \"echo 1 | {gmx} trjconv -f {xtc} -s npt.gro -pbc nojump -o {pbc} 2>&1 | tail -100\"\n",
    "    tr = md.load_xtc(pbc,top=pdbid+'.gro')\n",
    "    idx=tr[0].top.select(\"name CA\")\n",
    "    tr.superpose(tr[0],atom_indices=idx)\n",
    "    return tr\n"
   ]
  },
  {
   "cell_type": "code",
   "execution_count": null,
   "id": "c646f0bd-45f3-431b-84b5-42804d958df7",
   "metadata": {},
   "outputs": [],
   "source": [
    "tr = md.load_xtc('md-pbc.xtc',top='1L2Y-gmx.pdb')\n",
    "idx=tr[0].top.select(\"name CA\")\n",
    "tr.superpose(tr[0],atom_indices=idx)"
   ]
  },
  {
   "cell_type": "code",
   "execution_count": null,
   "id": "6815d30f-8f67-436f-82a7-8717c7894e5f",
   "metadata": {},
   "outputs": [],
   "source": [
    "v = nv.show_mdtraj(tr,gui=False)\n",
    "v.clear()\n",
    "v.add_representation(\"licorice\")\n",
    "v"
   ]
  }
 ],
 "metadata": {
  "kernelspec": {
   "display_name": "Python 3",
   "language": "python",
   "name": "python3"
  },
  "language_info": {
   "codemirror_mode": {
    "name": "ipython",
    "version": 3
   },
   "file_extension": ".py",
   "mimetype": "text/x-python",
   "name": "python",
   "nbconvert_exporter": "python",
   "pygments_lexer": "ipython3",
   "version": "3.7.10"
  }
 },
 "nbformat": 4,
 "nbformat_minor": 5
}
